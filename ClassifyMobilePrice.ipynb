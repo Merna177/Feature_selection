{
 "cells": [
  {
   "cell_type": "markdown",
   "metadata": {},
   "source": [
    "feature selection using Univariate Selection"
   ]
  },
  {
   "cell_type": "code",
   "execution_count": 3,
   "metadata": {},
   "outputs": [
    {
     "name": "stdout",
     "output_type": "stream",
     "text": [
      "      battery_power  blue  clock_speed  dual_sim  fc  four_g  int_memory  \\\n",
      "0               842     0          2.2         0   1       0           7   \n",
      "1              1021     1          0.5         1   0       1          53   \n",
      "2               563     1          0.5         1   2       1          41   \n",
      "3               615     1          2.5         0   0       0          10   \n",
      "4              1821     1          1.2         0  13       1          44   \n",
      "5              1859     0          0.5         1   3       0          22   \n",
      "6              1821     0          1.7         0   4       1          10   \n",
      "7              1954     0          0.5         1   0       0          24   \n",
      "8              1445     1          0.5         0   0       0          53   \n",
      "9               509     1          0.6         1   2       1           9   \n",
      "10              769     1          2.9         1   0       0           9   \n",
      "11             1520     1          2.2         0   5       1          33   \n",
      "12             1815     0          2.8         0   2       0          33   \n",
      "13              803     1          2.1         0   7       0          17   \n",
      "14             1866     0          0.5         0  13       1          52   \n",
      "15              775     0          1.0         0   3       0          46   \n",
      "16              838     0          0.5         0   1       1          13   \n",
      "17              595     0          0.9         1   7       1          23   \n",
      "18             1131     1          0.5         1  11       0          49   \n",
      "19              682     1          0.5         0   4       0          19   \n",
      "20              772     0          1.1         1  12       0          39   \n",
      "21             1709     1          2.1         0   1       0          13   \n",
      "22             1949     0          2.6         1   4       0          47   \n",
      "23             1602     1          2.8         1   4       1          38   \n",
      "24              503     0          1.2         1   5       1           8   \n",
      "25              961     1          1.4         1   0       1          57   \n",
      "26              519     1          1.6         1   7       1          51   \n",
      "27              956     0          0.5         0   1       1          41   \n",
      "28             1453     0          1.6         1  12       1          52   \n",
      "29              851     0          0.5         0   3       0          21   \n",
      "...             ...   ...          ...       ...  ..     ...         ...   \n",
      "1970           1913     1          1.8         0   0       0          29   \n",
      "1971            538     0          1.1         1   0       1          25   \n",
      "1972           1191     0          0.8         0   6       1          46   \n",
      "1973            816     0          3.0         1   2       0           9   \n",
      "1974            915     1          0.5         1   9       1          33   \n",
      "1975           1157     1          0.8         0   7       0          27   \n",
      "1976           1201     1          0.5         0   2       0          10   \n",
      "1977           1379     0          1.1         1   1       1          18   \n",
      "1978           1483     1          2.2         0   3       1          53   \n",
      "1979           1614     0          1.2         0   1       1           9   \n",
      "1980            930     1          1.0         1   4       1           4   \n",
      "1981           1454     0          2.6         0   8       0           6   \n",
      "1982           1784     0          1.6         0   4       0          41   \n",
      "1983           1262     0          1.8         1  12       0          34   \n",
      "1984            797     0          2.2         1   0       0          37   \n",
      "1985           1829     1          2.1         0   8       0          59   \n",
      "1986           1139     1          0.9         1   6       1          58   \n",
      "1987            618     1          1.0         0   9       1          13   \n",
      "1988           1547     1          2.9         0   2       0          57   \n",
      "1989            586     0          2.8         0   2       0          15   \n",
      "1990           1617     1          2.4         0   8       1          36   \n",
      "1991           1882     0          2.0         0  11       1          44   \n",
      "1992            674     1          2.9         1   1       0          21   \n",
      "1993           1467     1          0.5         0   0       0          18   \n",
      "1994            858     0          2.2         0   1       0          50   \n",
      "1995            794     1          0.5         1   0       1           2   \n",
      "1996           1965     1          2.6         1   0       0          39   \n",
      "1997           1911     0          0.9         1   1       1          36   \n",
      "1998           1512     0          0.9         0   4       1          46   \n",
      "1999            510     1          2.0         1   5       1          45   \n",
      "\n",
      "      m_dep  mobile_wt  n_cores  pc  px_height  px_width   ram  sc_h  sc_w  \\\n",
      "0       0.6        188        2   2         20       756  2549     9     7   \n",
      "1       0.7        136        3   6        905      1988  2631    17     3   \n",
      "2       0.9        145        5   6       1263      1716  2603    11     2   \n",
      "3       0.8        131        6   9       1216      1786  2769    16     8   \n",
      "4       0.6        141        2  14       1208      1212  1411     8     2   \n",
      "5       0.7        164        1   7       1004      1654  1067    17     1   \n",
      "6       0.8        139        8  10        381      1018  3220    13     8   \n",
      "7       0.8        187        4   0        512      1149   700    16     3   \n",
      "8       0.7        174        7  14        386       836  1099    17     1   \n",
      "9       0.1         93        5  15       1137      1224   513    19    10   \n",
      "10      0.1        182        5   1        248       874  3946     5     2   \n",
      "11      0.5        177        8  18        151      1005  3826    14     9   \n",
      "12      0.6        159        4  17        607       748  1482    18     0   \n",
      "13      1.0        198        4  11        344      1440  2680     7     1   \n",
      "14      0.7        185        1  17        356       563   373    14     9   \n",
      "15      0.7        159        2  16        862      1864   568    17    15   \n",
      "16      0.1        196        8   4        984      1850  3554    10     9   \n",
      "17      0.1        121        3  17        441       810  3752    10     2   \n",
      "18      0.6        101        5  18        658       878  1835    19    13   \n",
      "19      1.0        121        4  11        902      1064  2337    11     1   \n",
      "20      0.8         81        7  14       1314      1854  2819    17    15   \n",
      "21      1.0        156        2   2        974      1385  3283    17     1   \n",
      "22      0.3        199        4   7        407       822  1433    11     5   \n",
      "23      0.7        114        3  20        466       788  1037     8     7   \n",
      "24      0.4        111        3  13        201      1245  2583    11     0   \n",
      "25      0.6        114        8   3        291      1434  2782    18     9   \n",
      "26      0.3        132        4  19        550       645  3763    16     1   \n",
      "27      1.0        143        7   6        511      1075  3286    17     8   \n",
      "28      0.3         96        2  18        187      1311  2373    10     1   \n",
      "29      0.4        200        5   7       1171      1263   478    12     7   \n",
      "...     ...        ...      ...  ..        ...       ...   ...   ...   ...   \n",
      "1970    0.6        111        5   4        675       742  2023    17    13   \n",
      "1971    0.3        163        7   7        455       537  2215     9     3   \n",
      "1972    0.8         89        6   9         42       807   824    19    18   \n",
      "1973    0.1        117        1   3       1196      1651  3851    10     3   \n",
      "1974    0.3        199        2  16        503       986  2156     7     3   \n",
      "1975    0.1         88        8   8       1694      1798  2885     8     4   \n",
      "1976    1.0         99        7   7        306       558   495    15     6   \n",
      "1977    0.2        129        2  16        838       885  2358    10     5   \n",
      "1978    0.7        169        5  11        291       651  1744     6     3   \n",
      "1979    0.1        161        3   2        173      1219  1832    15     8   \n",
      "1980    0.9        144        8  10       1017      1289  2016    13    10   \n",
      "1981    0.4        199        3  20        698      1018  1300    10     0   \n",
      "1982    0.4        164        6  20        610      1437  2313    14     1   \n",
      "1983    0.1        149        5  16        223       737  3248    13     3   \n",
      "1984    0.9        144        7   2        206      1167  2216     9     5   \n",
      "1985    0.1         91        5  15       1457      1919  3142    16     6   \n",
      "1986    0.5        161        2  11        742       999  1850     9     4   \n",
      "1987    0.1         80        4  15        591       724  1424    15    12   \n",
      "1988    0.4        114        1   3        347       957  1620     9     2   \n",
      "1989    0.2         83        3  11        241       854  2592    12     8   \n",
      "1990    0.8         85        1   9        743      1426   296     5     3   \n",
      "1991    0.8        113        8  19          4       743  3579    19     8   \n",
      "1992    0.2        198        3   4        576      1809  1180     6     3   \n",
      "1993    0.6        122        5   0        888      1099  3962    15    11   \n",
      "1994    0.1         84        1   2        528      1416  3978    17    16   \n",
      "1995    0.8        106        6  14       1222      1890   668    13     4   \n",
      "1996    0.2        187        4   3        915      1965  2032    11    10   \n",
      "1997    0.7        108        8   3        868      1632  3057     9     1   \n",
      "1998    0.1        145        5   5        336       670   869    18    10   \n",
      "1999    0.9        168        6  16        483       754  3919    19     4   \n",
      "\n",
      "      talk_time  three_g  touch_screen  wifi  \n",
      "0            19        0             0     1  \n",
      "1             7        1             1     0  \n",
      "2             9        1             1     0  \n",
      "3            11        1             0     0  \n",
      "4            15        1             1     0  \n",
      "5            10        1             0     0  \n",
      "6            18        1             0     1  \n",
      "7             5        1             1     1  \n",
      "8            20        1             0     0  \n",
      "9            12        1             0     0  \n",
      "10            7        0             0     0  \n",
      "11           13        1             1     1  \n",
      "12            2        1             0     0  \n",
      "13            4        1             0     1  \n",
      "14            3        1             0     1  \n",
      "15           11        1             1     1  \n",
      "16           19        1             0     1  \n",
      "17           18        1             1     0  \n",
      "18           16        1             1     0  \n",
      "19           18        0             1     1  \n",
      "20            3        1             1     0  \n",
      "21           15        1             0     0  \n",
      "22           20        0             0     1  \n",
      "23           20        1             0     0  \n",
      "24           12        1             0     0  \n",
      "25            7        1             1     1  \n",
      "26            4        1             0     1  \n",
      "27           12        1             1     0  \n",
      "28           10        1             1     1  \n",
      "29           10        1             0     1  \n",
      "...         ...      ...           ...   ...  \n",
      "1970          8        1             1     0  \n",
      "1971         17        1             1     1  \n",
      "1972          7        1             0     0  \n",
      "1973         14        1             0     1  \n",
      "1974         13        1             1     0  \n",
      "1975          2        1             0     1  \n",
      "1976         14        1             1     1  \n",
      "1977         15        1             1     0  \n",
      "1978         10        1             0     0  \n",
      "1979         11        1             0     0  \n",
      "1980         16        1             1     1  \n",
      "1981          2        0             0     1  \n",
      "1982         11        0             1     0  \n",
      "1983          4        0             1     1  \n",
      "1984          6        1             0     0  \n",
      "1985          5        1             1     1  \n",
      "1986          8        1             0     0  \n",
      "1987          7        1             1     0  \n",
      "1988         19        0             1     1  \n",
      "1989          3        0             0     0  \n",
      "1990          7        1             0     0  \n",
      "1991         20        1             1     0  \n",
      "1992          4        1             1     1  \n",
      "1993          5        1             1     1  \n",
      "1994          3        1             1     0  \n",
      "1995         19        1             1     0  \n",
      "1996         16        1             1     1  \n",
      "1997          5        1             1     0  \n",
      "1998         19        1             1     1  \n",
      "1999          2        1             1     1  \n",
      "\n",
      "[2000 rows x 20 columns]\n"
     ]
    }
   ],
   "source": [
    "#/home/merna/Downloads/mobile-price-classification\n",
    "import pandas as pd\n",
    "import numpy as np\n",
    "from sklearn.feature_selection import SelectKBest\n",
    "from sklearn.feature_selection import chi2\n",
    "\n",
    "data = pd.read_csv(\"/home/merna/Downloads/mobile-price-classification/train.csv\")\n",
    "X = data.iloc[:,0:20]  #independent columns\n",
    "print(X)\n",
    "y = data.iloc[:,-1]    #target column i.e price range"
   ]
  },
  {
   "cell_type": "code",
   "execution_count": 4,
   "metadata": {},
   "outputs": [],
   "source": [
    "#apply SelectKBest class to extract top 10 best features\n",
    "#The Chi Square statistic is commonly used for testing relationships between categorical variables. \n",
    "bestfeatures = SelectKBest(score_func=chi2, k=10)\n",
    "fit = bestfeatures.fit(X,y)"
   ]
  },
  {
   "cell_type": "code",
   "execution_count": 11,
   "metadata": {},
   "outputs": [
    {
     "name": "stdout",
     "output_type": "stream",
     "text": [
      "         Features          Score\n",
      "13            ram  931267.519053\n",
      "11      px_height   17363.569536\n",
      "0   battery_power   14129.866576\n",
      "12       px_width    9810.586750\n",
      "8       mobile_wt      95.972863\n",
      "6      int_memory      89.839124\n",
      "15           sc_w      16.480319\n",
      "16      talk_time      13.236400\n",
      "4              fc      10.135166\n",
      "14           sc_h       9.614878\n"
     ]
    }
   ],
   "source": [
    "dfscores = pd.DataFrame(fit.scores_)\n",
    "dfcolumns = pd.DataFrame(X.columns)\n",
    "#concat two dataframes for better visualization by column\n",
    "featureScores = pd.concat([dfcolumns,dfscores],axis=1)\n",
    "featureScores.columns = ['Features','Score']  #naming the dataframe columns\n",
    "print(featureScores.nlargest(10,'Score'))  #print 10 best features"
   ]
  },
  {
   "cell_type": "markdown",
   "metadata": {},
   "source": [
    "feature selection using Feature Importance\n",
    "This examples shows the use of  trees to evaluate the importance of features on an artificial classification task. The red bars are the feature importances of the tree, along with their inter-trees variability."
   ]
  },
  {
   "cell_type": "code",
   "execution_count": 12,
   "metadata": {},
   "outputs": [
    {
     "name": "stdout",
     "output_type": "stream",
     "text": [
      "[0.06188388 0.02083044 0.03335758 0.02300187 0.03309812 0.02124079\n",
      " 0.03444885 0.03293637 0.04160961 0.03136506 0.03497266 0.04945899\n",
      " 0.05051869 0.36138798 0.03714765 0.03757325 0.04088305 0.0155828\n",
      " 0.01744453 0.02125782]\n"
     ]
    },
    {
     "name": "stderr",
     "output_type": "stream",
     "text": [
      "/usr/local/lib/python3.6/dist-packages/sklearn/ensemble/forest.py:246: FutureWarning: The default value of n_estimators will change from 10 in version 0.20 to 100 in 0.22.\n",
      "  \"10 in version 0.20 to 100 in 0.22.\", FutureWarning)\n"
     ]
    },
    {
     "data": {
      "text/plain": [
       "<Figure size 640x480 with 1 Axes>"
      ]
     },
     "metadata": {},
     "output_type": "display_data"
    }
   ],
   "source": [
    "import pandas as pd\n",
    "import numpy as np\n",
    "\n",
    "data = pd.read_csv(\"/home/merna/Downloads/mobile-price-classification/train.csv\")\n",
    "X = data.iloc[:,0:20]  #independent columns\n",
    "y = data.iloc[:,-1]    #target column i.e price range\n",
    "from sklearn.ensemble import ExtraTreesClassifier\n",
    "import matplotlib.pyplot as plt\n",
    "model = ExtraTreesClassifier()\n",
    "model.fit(X,y)\n",
    "print(model.feature_importances_) #use inbuilt class feature_importances of tree based classifiers\n",
    "#plot graph of feature importances for better visualization\n",
    "feat_importances = pd.Series(model.feature_importances_, index=X.columns)\n",
    "feat_importances.nlargest(10).plot(kind='barh')\n",
    "plt.show()"
   ]
  },
  {
   "cell_type": "markdown",
   "metadata": {},
   "source": [
    "3.Correlation Matrix with Heatmap\n",
    "\n",
    "\n",
    "Correlation states how the features are related to each other or the target variable.\n",
    "Correlation can be positive (increase in one value of feature increases the value of the target variable) or negative (increase in one value of feature decreases the value of the target variable)\n",
    "Heatmap makes it easy to identify which features are most related to the target variable, we will plot heatmap of correlated features using the seaborn library.\n"
   ]
  },
  {
   "cell_type": "code",
   "execution_count": 14,
   "metadata": {},
   "outputs": [
    {
     "data": {
      "text/plain": [
       "<Figure size 1440x1440 with 0 Axes>"
      ]
     },
     "execution_count": 14,
     "metadata": {},
     "output_type": "execute_result"
    },
    {
     "data": {
      "text/plain": [
       "<Figure size 1440x1440 with 0 Axes>"
      ]
     },
     "metadata": {},
     "output_type": "display_data"
    }
   ],
   "source": [
    "import pandas as pd\n",
    "import numpy as np\n",
    "import seaborn as sns\n",
    "\n",
    "data = pd.read_csv(\"/home/merna/Downloads/mobile-price-classification/train.csv\")\n",
    "X = data.iloc[:,0:20]  #independent columns\n",
    "y = data.iloc[:,-1]    #target column i.e price range\n",
    "#get correlations of each features in dataset\n",
    "corrmat = data.corr()\n",
    "top_corr_features = corrmat.index\n",
    "plt.figure(figsize=(20,20))\n",
    "#plot heat map\n",
    "g=sns.heatmap(data[top_corr_features].corr(),annot=True,cmap=\"RdYlGn\")"
   ]
  },
  {
   "cell_type": "code",
   "execution_count": null,
   "metadata": {},
   "outputs": [],
   "source": []
  }
 ],
 "metadata": {
  "kernelspec": {
   "display_name": "Python 3",
   "language": "python",
   "name": "python3"
  },
  "language_info": {
   "codemirror_mode": {
    "name": "ipython",
    "version": 3
   },
   "file_extension": ".py",
   "mimetype": "text/x-python",
   "name": "python",
   "nbconvert_exporter": "python",
   "pygments_lexer": "ipython3",
   "version": "3.6.7"
  }
 },
 "nbformat": 4,
 "nbformat_minor": 2
}
